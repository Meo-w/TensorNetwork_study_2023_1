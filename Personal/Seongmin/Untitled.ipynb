{
 "cells": [
  {
   "cell_type": "code",
   "execution_count": 155,
   "id": "51773d5b",
   "metadata": {},
   "outputs": [],
   "source": [
    "import torch\n",
    "import numpy as np\n",
    "def tensor_to_mps(psi, leg_dim, max_bond_dim, Print=False):\n",
    "    #leg_dim의 homogeneous 가정함\n",
    "    a=np.log2(psi.numel()).item()/np.log2(leg_dim).item()\n",
    "    if a%1 != 0 :\n",
    "        print('input not valid')\n",
    "    N = int(a)  # 원래 텐서의 크기\n",
    "    psi0=psi\n",
    "    mps_tensors = []\n",
    "    bond_dim=1\n",
    "    for n in range(N-1):\n",
    "        psi = psi.reshape(leg_dim*bond_dim,-1)\n",
    "        d=bond_dim\n",
    "        U, S, V = torch.linalg.svd(psi, full_matrices=False)\n",
    "        bond_dim = min(S.size(0), max_bond_dim)\n",
    "        U = U[:, :bond_dim]\n",
    "        S = torch.diag(S[:bond_dim])\n",
    "        S=torch.tensor(S, dtype=torch.cfloat)\n",
    "        V = V[:bond_dim,:]\n",
    "        if n==0:\n",
    "            mps_tensors.append(U.reshape(1,leg_dim,-1))\n",
    "        else:\n",
    "            mps_tensors.append(U.reshape(d,leg_dim,-1))\n",
    "        psi = torch.matmul(S, V)\n",
    "    mps_tensors.append(psi.reshape(-1, leg_dim,1))\n",
    "    #return type : [ (1*leg*leg) (leg*leg*bond) (bond*leg*bond) ..... (bond*leg*1)]\n",
    "    if Print:\n",
    "        PrintMPS(mps_tensors)\n",
    "        result = contract_mps(mps_tensors)\n",
    "        print('loss of MPS(%) : ',100*torch.sum(torch.abs(result.flatten() - psi0.flatten()))/torch.sum(torch.abs(psi0.flatten())).item())\n",
    "        print('###############################################')\n",
    "    return mps_tensors\n",
    "def contract_mps(mps_tensors):\n",
    "    #leg_dim의 homogeneous 가정함\n",
    "    # MPS 텐서 목록이 비어 있으면 에러를 발생시킵니다.\n",
    "    if len(mps_tensors) == 0:\n",
    "        raise ValueError(\"MPS tensor list cannot be empty\")\n",
    "    leg_dim=mps_tensors[0].size(1)\n",
    "    # 첫 번째 텐서를 초기 결과로 설정합니다.\n",
    "    result = mps_tensors[0]\n",
    "\n",
    "    # 나머지 텐서를 순차적으로 contract합니다.\n",
    "    for i in range(1, len(mps_tensors)):\n",
    "        result = torch.einsum(\"ilj, jkm->ilkm\", result, mps_tensors[i]).reshape(1,leg_dim**(i+1),-1)\n",
    "    # return type : 1 * (leg_dim)^n * 1\n",
    "    return result\n",
    "def PrintMPS(mps):\n",
    "    print('###############################################')\n",
    "    print('printing MPS vector')\n",
    "    print('###############################################')\n",
    "    for idx, tensor in enumerate(mps):\n",
    "        print(f\"MPS tensor {idx}: {tensor.shape}\")\n",
    "    print('###############################################')"
   ]
  },
  {
   "cell_type": "code",
   "execution_count": 156,
   "id": "c160b2ea",
   "metadata": {
    "scrolled": true
   },
   "outputs": [
    {
     "name": "stdout",
     "output_type": "stream",
     "text": [
      "###############################################\n",
      "printing MPS vector\n",
      "###############################################\n",
      "MPS tensor 0: torch.Size([1, 3, 3])\n",
      "MPS tensor 1: torch.Size([3, 3, 4])\n",
      "MPS tensor 2: torch.Size([4, 3, 3])\n",
      "MPS tensor 3: torch.Size([3, 3, 1])\n",
      "###############################################\n",
      "loss of MPS(%) :  tensor(21.6435)\n",
      "###############################################\n"
     ]
    },
    {
     "name": "stderr",
     "output_type": "stream",
     "text": [
      "C:\\Users\\kimsm\\AppData\\Local\\Temp/ipykernel_22012/2067082483.py:19: UserWarning: To copy construct from a tensor, it is recommended to use sourceTensor.clone().detach() or sourceTensor.clone().detach().requires_grad_(True), rather than torch.tensor(sourceTensor).\n",
      "  S=torch.tensor(S, dtype=torch.cfloat)\n"
     ]
    }
   ],
   "source": [
    "# 양자 상태 벡터 생성 (예: 크기가 2^4인 무작위 복소수 벡터)\n",
    "psi = torch.rand(3**4) + 1j * torch.rand(3**4)\n",
    "\n",
    "# 양자 상태 벡터를 MPS로 변환\n",
    "mps_tensors = tensor_to_mps(psi, 3, max_bond_dim=4,Print=True)\n",
    "\n",
    "# MPS 텐서 출력\n",
    "#PrintMPS(mps_tensors)\n",
    "\n",
    "\n",
    "# 예시 MPS 텐서 목록\n",
    "mps_tensors = [\n",
    "    torch.tensor([[[1, 2], [3, 4]]], dtype=torch.float32),\n",
    "    torch.tensor([[[5, 6], [7, 8]]], dtype=torch.float32),\n",
    "    torch.tensor([[[9, 10], [11, 12]]], dtype=torch.float32)\n",
    "]\n",
    "\n",
    "# MPS 텐서들을 contract합니다.\n",
    "result = contract_mps(tensor_to_mps(psi, 3, max_bond_dim=7))\n",
    "#print('loss of MPS')\n",
    "#print(torch.sum(torch.abs(result.flatten() - psi.flatten()))/torch.sum(torch.abs(psi.flatten())))"
   ]
  },
  {
   "cell_type": "code",
   "execution_count": null,
   "id": "713a56ff",
   "metadata": {},
   "outputs": [],
   "source": []
  }
 ],
 "metadata": {
  "kernelspec": {
   "display_name": "Python 3 (ipykernel)",
   "language": "python",
   "name": "python3"
  },
  "language_info": {
   "codemirror_mode": {
    "name": "ipython",
    "version": 3
   },
   "file_extension": ".py",
   "mimetype": "text/x-python",
   "name": "python",
   "nbconvert_exporter": "python",
   "pygments_lexer": "ipython3",
   "version": "3.9.7"
  }
 },
 "nbformat": 4,
 "nbformat_minor": 5
}
